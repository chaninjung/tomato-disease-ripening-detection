{
 "cells": [
  {
   "cell_type": "markdown",
   "id": "40053cad-1542-4196-8221-19e8a78b6c58",
   "metadata": {},
   "source": [
    "# TOMATO MATURITY YOLOv5 MODEL using GAN\n",
    "\n",
    "#### 최종 Dataset (9,831장)\n",
    "- test(1,055장) = 349장(half-ripe)+326장(ripe)+380장(unripe)\n",
    "- valid(931장) = 269장(half-ripe)+349장(ripe)+313장(unripe)\n",
    "- train(7,872장) = 2,999장(half-ripe)+2,404장(ripe)+2,469장(unripe)"
   ]
  },
  {
   "cell_type": "code",
   "execution_count": 1,
   "id": "de9a617e-08e4-4a63-8d98-1404b80f9df2",
   "metadata": {},
   "outputs": [
    {
     "name": "stderr",
     "output_type": "stream",
     "text": [
      "2023-12-18 01:05:29.172790: I tensorflow/core/platform/cpu_feature_guard.cc:193] This TensorFlow binary is optimized with oneAPI Deep Neural Network Library (oneDNN) to use the following CPU instructions in performance-critical operations:  AVX2 AVX512F FMA\n",
      "To enable them in other operations, rebuild TensorFlow with the appropriate compiler flags.\n",
      "2023-12-18 01:05:29.362954: E tensorflow/stream_executor/cuda/cuda_blas.cc:2981] Unable to register cuBLAS factory: Attempting to register factory for plugin cuBLAS when one has already been registered\n",
      "2023-12-18 01:05:30.124354: W tensorflow/stream_executor/platform/default/dso_loader.cc:64] Could not load dynamic library 'libnvinfer.so.7'; dlerror: libnvinfer.so.7: cannot open shared object file: No such file or directory; LD_LIBRARY_PATH: /home/piai/anaconda3/envs/ml/lib:/home/piai/anaconda3/envs/opencv_keras/lib\n",
      "2023-12-18 01:05:30.124440: W tensorflow/stream_executor/platform/default/dso_loader.cc:64] Could not load dynamic library 'libnvinfer_plugin.so.7'; dlerror: libnvinfer_plugin.so.7: cannot open shared object file: No such file or directory; LD_LIBRARY_PATH: /home/piai/anaconda3/envs/ml/lib:/home/piai/anaconda3/envs/opencv_keras/lib\n",
      "2023-12-18 01:05:30.124450: W tensorflow/compiler/tf2tensorrt/utils/py_utils.cc:38] TF-TRT Warning: Cannot dlopen some TensorRT libraries. If you would like to use Nvidia GPU with TensorRT, please make sure the missing libraries mentioned above are installed properly.\n"
     ]
    },
    {
     "name": "stdout",
     "output_type": "stream",
     "text": [
      "GPU 설정이 완료되었습니다.\n"
     ]
    }
   ],
   "source": [
    "import tensorflow as tf\n",
    "\n",
    "# GPU를 사용하여 TensorFlow 설정\n",
    "physical_devices = tf.config.list_physical_devices('GPU')\n",
    "if len(physical_devices) > 0:\n",
    "    tf.config.experimental.set_memory_growth(physical_devices[0], True)\n",
    "    print('GPU 설정이 완료되었습니다.')\n",
    "else:\n",
    "    print('GPU를 찾을 수 없습니다.')"
   ]
  },
  {
   "cell_type": "code",
   "execution_count": 3,
   "id": "6cd79692-f0ed-44eb-b154-c9f814edad1c",
   "metadata": {},
   "outputs": [
    {
     "name": "stdout",
     "output_type": "stream",
     "text": [
      "False\n",
      "No GPU available\n"
     ]
    }
   ],
   "source": [
    "import torch\n",
    "\n",
    "# GPU 사용 가능 여부 확인\n",
    "print(torch.cuda.is_available())\n",
    "\n",
    "# 사용 가능한 GPU 수와 첫 번째 GPU 이름 확인\n",
    "if torch.cuda.is_available():\n",
    "    print(torch.cuda.device_count())\n",
    "    print(torch.cuda.get_device_name(0))\n",
    "else:\n",
    "    print(\"No GPU available\")"
   ]
  },
  {
   "cell_type": "code",
   "execution_count": 3,
   "id": "c5229740-35d0-4b44-8785-52a0a1ce9b79",
   "metadata": {},
   "outputs": [
    {
     "name": "stdout",
     "output_type": "stream",
     "text": [
      "fatal: 대상 경로가('yolov5') 이미 있고 빈 디렉터리가 아닙니다.\n"
     ]
    }
   ],
   "source": [
    "!git clone https://github.com/ultralytics/yolov5.git"
   ]
  },
  {
   "cell_type": "code",
   "execution_count": 4,
   "id": "cf17db0f-1f4c-4ac2-bc8a-280273a050a9",
   "metadata": {},
   "outputs": [
    {
     "name": "stdout",
     "output_type": "stream",
     "text": [
      "/home/piai/GOOD MODEL/TOMATO MATURITY/yolov5\n",
      "Requirement already satisfied: gitpython>=3.1.30 in /home/piai/anaconda3/envs/ml/lib/python3.8/site-packages (from -r requirements.txt (line 5)) (3.1.40)\n",
      "Requirement already satisfied: matplotlib>=3.3 in /home/piai/anaconda3/envs/ml/lib/python3.8/site-packages (from -r requirements.txt (line 6)) (3.7.4)\n",
      "Requirement already satisfied: numpy>=1.22.2 in /home/piai/anaconda3/envs/ml/lib/python3.8/site-packages (from -r requirements.txt (line 7)) (1.24.4)\n",
      "Requirement already satisfied: opencv-python>=4.1.1 in /home/piai/anaconda3/envs/ml/lib/python3.8/site-packages (from -r requirements.txt (line 8)) (4.8.1.78)\n",
      "Requirement already satisfied: Pillow>=10.0.1 in /home/piai/anaconda3/envs/ml/lib/python3.8/site-packages (from -r requirements.txt (line 9)) (10.1.0)\n",
      "Requirement already satisfied: psutil in /home/piai/anaconda3/envs/ml/lib/python3.8/site-packages (from -r requirements.txt (line 10)) (5.9.5)\n",
      "Requirement already satisfied: PyYAML>=5.3.1 in /home/piai/anaconda3/envs/ml/lib/python3.8/site-packages (from -r requirements.txt (line 11)) (5.3.1)\n",
      "Requirement already satisfied: requests>=2.23.0 in /home/piai/anaconda3/envs/ml/lib/python3.8/site-packages (from -r requirements.txt (line 12)) (2.31.0)\n",
      "Requirement already satisfied: scipy>=1.4.1 in /home/piai/anaconda3/envs/ml/lib/python3.8/site-packages (from -r requirements.txt (line 13)) (1.10.1)\n",
      "Requirement already satisfied: thop>=0.1.1 in /home/piai/anaconda3/envs/ml/lib/python3.8/site-packages (from -r requirements.txt (line 14)) (0.1.1.post2209072238)\n",
      "Requirement already satisfied: torch>=1.8.0 in /home/piai/anaconda3/envs/ml/lib/python3.8/site-packages (from -r requirements.txt (line 15)) (2.1.1)\n",
      "Requirement already satisfied: torchvision>=0.9.0 in /home/piai/anaconda3/envs/ml/lib/python3.8/site-packages (from -r requirements.txt (line 16)) (0.16.1)\n",
      "Requirement already satisfied: tqdm>=4.64.0 in /home/piai/anaconda3/envs/ml/lib/python3.8/site-packages (from -r requirements.txt (line 17)) (4.66.1)\n",
      "Requirement already satisfied: ultralytics>=8.0.147 in /home/piai/anaconda3/envs/ml/lib/python3.8/site-packages (from -r requirements.txt (line 18)) (8.0.227)\n",
      "Requirement already satisfied: pandas>=1.1.4 in /home/piai/anaconda3/envs/ml/lib/python3.8/site-packages (from -r requirements.txt (line 27)) (2.0.3)\n",
      "Requirement already satisfied: seaborn>=0.11.0 in /home/piai/anaconda3/envs/ml/lib/python3.8/site-packages (from -r requirements.txt (line 28)) (0.13.0)\n",
      "Requirement already satisfied: setuptools>=65.5.1 in /home/piai/anaconda3/envs/ml/lib/python3.8/site-packages (from -r requirements.txt (line 42)) (68.2.2)\n",
      "Requirement already satisfied: gitdb<5,>=4.0.1 in /home/piai/anaconda3/envs/ml/lib/python3.8/site-packages (from gitpython>=3.1.30->-r requirements.txt (line 5)) (4.0.11)\n",
      "Requirement already satisfied: contourpy>=1.0.1 in /home/piai/anaconda3/envs/ml/lib/python3.8/site-packages (from matplotlib>=3.3->-r requirements.txt (line 6)) (1.1.1)\n",
      "Requirement already satisfied: cycler>=0.10 in /home/piai/anaconda3/envs/ml/lib/python3.8/site-packages (from matplotlib>=3.3->-r requirements.txt (line 6)) (0.10.0)\n",
      "Requirement already satisfied: fonttools>=4.22.0 in /home/piai/anaconda3/envs/ml/lib/python3.8/site-packages (from matplotlib>=3.3->-r requirements.txt (line 6)) (4.46.0)\n",
      "Requirement already satisfied: kiwisolver>=1.0.1 in /home/piai/anaconda3/envs/ml/lib/python3.8/site-packages (from matplotlib>=3.3->-r requirements.txt (line 6)) (1.3.1)\n",
      "Requirement already satisfied: packaging>=20.0 in /home/piai/anaconda3/envs/ml/lib/python3.8/site-packages (from matplotlib>=3.3->-r requirements.txt (line 6)) (23.2)\n",
      "Requirement already satisfied: pyparsing>=2.3.1 in /home/piai/anaconda3/envs/ml/lib/python3.8/site-packages (from matplotlib>=3.3->-r requirements.txt (line 6)) (2.4.7)\n",
      "Requirement already satisfied: python-dateutil>=2.7 in /home/piai/anaconda3/envs/ml/lib/python3.8/site-packages (from matplotlib>=3.3->-r requirements.txt (line 6)) (2.8.2)\n",
      "Requirement already satisfied: importlib-resources>=3.2.0 in /home/piai/anaconda3/envs/ml/lib/python3.8/site-packages (from matplotlib>=3.3->-r requirements.txt (line 6)) (6.1.1)\n",
      "Requirement already satisfied: charset-normalizer<4,>=2 in /home/piai/anaconda3/envs/ml/lib/python3.8/site-packages (from requests>=2.23.0->-r requirements.txt (line 12)) (3.3.2)\n",
      "Requirement already satisfied: idna<4,>=2.5 in /home/piai/anaconda3/envs/ml/lib/python3.8/site-packages (from requests>=2.23.0->-r requirements.txt (line 12)) (2.10)\n",
      "Requirement already satisfied: urllib3<3,>=1.21.1 in /home/piai/anaconda3/envs/ml/lib/python3.8/site-packages (from requests>=2.23.0->-r requirements.txt (line 12)) (2.1.0)\n",
      "Requirement already satisfied: certifi>=2017.4.17 in /home/piai/anaconda3/envs/ml/lib/python3.8/site-packages (from requests>=2.23.0->-r requirements.txt (line 12)) (2023.7.22)\n",
      "Requirement already satisfied: filelock in /home/piai/anaconda3/envs/ml/lib/python3.8/site-packages (from torch>=1.8.0->-r requirements.txt (line 15)) (3.13.1)\n",
      "Requirement already satisfied: typing-extensions in /home/piai/anaconda3/envs/ml/lib/python3.8/site-packages (from torch>=1.8.0->-r requirements.txt (line 15)) (4.9.0)\n",
      "Requirement already satisfied: sympy in /home/piai/anaconda3/envs/ml/lib/python3.8/site-packages (from torch>=1.8.0->-r requirements.txt (line 15)) (1.12)\n",
      "Requirement already satisfied: networkx in /home/piai/anaconda3/envs/ml/lib/python3.8/site-packages (from torch>=1.8.0->-r requirements.txt (line 15)) (2.8.8)\n",
      "Requirement already satisfied: jinja2 in /home/piai/anaconda3/envs/ml/lib/python3.8/site-packages (from torch>=1.8.0->-r requirements.txt (line 15)) (3.1.2)\n",
      "Requirement already satisfied: fsspec in /home/piai/anaconda3/envs/ml/lib/python3.8/site-packages (from torch>=1.8.0->-r requirements.txt (line 15)) (2023.10.0)\n",
      "Requirement already satisfied: py-cpuinfo in /home/piai/anaconda3/envs/ml/lib/python3.8/site-packages (from ultralytics>=8.0.147->-r requirements.txt (line 18)) (9.0.0)\n",
      "Requirement already satisfied: pytz>=2020.1 in /home/piai/anaconda3/envs/ml/lib/python3.8/site-packages (from pandas>=1.1.4->-r requirements.txt (line 27)) (2023.3.post1)\n",
      "Requirement already satisfied: tzdata>=2022.1 in /home/piai/anaconda3/envs/ml/lib/python3.8/site-packages (from pandas>=1.1.4->-r requirements.txt (line 27)) (2023.3)\n",
      "Requirement already satisfied: six in /home/piai/anaconda3/envs/ml/lib/python3.8/site-packages (from cycler>=0.10->matplotlib>=3.3->-r requirements.txt (line 6)) (1.16.0)\n",
      "Requirement already satisfied: smmap<6,>=3.0.1 in /home/piai/anaconda3/envs/ml/lib/python3.8/site-packages (from gitdb<5,>=4.0.1->gitpython>=3.1.30->-r requirements.txt (line 5)) (5.0.1)\n",
      "Requirement already satisfied: zipp>=3.1.0 in /home/piai/anaconda3/envs/ml/lib/python3.8/site-packages (from importlib-resources>=3.2.0->matplotlib>=3.3->-r requirements.txt (line 6)) (3.17.0)\n",
      "Requirement already satisfied: MarkupSafe>=2.0 in /home/piai/anaconda3/envs/ml/lib/python3.8/site-packages (from jinja2->torch>=1.8.0->-r requirements.txt (line 15)) (2.1.3)\n",
      "Requirement already satisfied: mpmath>=0.19 in /home/piai/anaconda3/envs/ml/lib/python3.8/site-packages (from sympy->torch>=1.8.0->-r requirements.txt (line 15)) (1.3.0)\n",
      "^C\n",
      "\u001b[31mERROR: Operation cancelled by user\u001b[0m\u001b[31m\n",
      "\u001b[0m"
     ]
    }
   ],
   "source": [
    "%cd yolov5\n",
    "!pip install -r requirements.txt"
   ]
  },
  {
   "cell_type": "code",
   "execution_count": 5,
   "id": "684a9dbb-49fc-43cf-b776-432569bed02e",
   "metadata": {},
   "outputs": [
    {
     "name": "stdout",
     "output_type": "stream",
     "text": [
      "Requirement already satisfied: scikit-learn in /home/piai/anaconda3/envs/ml/lib/python3.8/site-packages (1.3.2)\n",
      "Requirement already satisfied: numpy<2.0,>=1.17.3 in /home/piai/anaconda3/envs/ml/lib/python3.8/site-packages (from scikit-learn) (1.24.4)\n",
      "Requirement already satisfied: scipy>=1.5.0 in /home/piai/anaconda3/envs/ml/lib/python3.8/site-packages (from scikit-learn) (1.10.1)\n",
      "Requirement already satisfied: joblib>=1.1.1 in /home/piai/anaconda3/envs/ml/lib/python3.8/site-packages (from scikit-learn) (1.3.2)\n",
      "Requirement already satisfied: threadpoolctl>=2.0.0 in /home/piai/anaconda3/envs/ml/lib/python3.8/site-packages (from scikit-learn) (3.2.0)\n"
     ]
    }
   ],
   "source": [
    "!pip install scikit-learn"
   ]
  },
  {
   "cell_type": "code",
   "execution_count": 6,
   "id": "16e5d4f3-f9b3-4481-a231-7fd887608bb2",
   "metadata": {},
   "outputs": [
    {
     "name": "stdout",
     "output_type": "stream",
     "text": [
      "names:\n",
      "- 0\n",
      "- 1\n",
      "- 2\n",
      "\n",
      "nc: 3\n",
      "\n",
      "roboflow:\n",
      "  workspace: chuchu-hfte9\n",
      "  project: unripe_tomato_2000\n",
      "  version: 1\n",
      "  license: CC BY 4.0\n",
      "  url: https://universe.roboflow.com/chuchu-hfte9/unripe_tomato_2000/dataset/1\n",
      "\n",
      "test: ../test/images\n",
      "train: /home/piai/yolov5/GAN_Maturity/train/images\n",
      "val: /home/piai/yolov5/GAN_Maturity/valid/images\n"
     ]
    }
   ],
   "source": [
    "%cat /home/piai/yolov5/GAN_Maturity/data.yaml"
   ]
  },
  {
   "cell_type": "code",
   "execution_count": null,
   "id": "6a78ce88-34ad-4ad9-983e-1b7a2c7caa0f",
   "metadata": {},
   "outputs": [
    {
     "name": "stdout",
     "output_type": "stream",
     "text": [
      "/home/piai/yolov5\n",
      "2023-12-18 00:33:52.962057: E tensorflow/stream_executor/cuda/cuda_blas.cc:2981] Unable to register cuBLAS factory: Attempting to register factory for plugin cuBLAS when one has already been registered\n",
      "\u001b[34m\u001b[1mtrain: \u001b[0mweights=yolov5s.pt, cfg=./models/yolov5s.yaml, data=/home/piai/yolov5/GAN_Maturity/data.yaml, hyp=data/hyps/hyp.scratch-low.yaml, epochs=500, batch_size=8, imgsz=640, rect=False, resume=False, nosave=False, noval=False, noautoanchor=False, noplots=False, evolve=None, bucket=, cache=None, image_weights=False, device=, multi_scale=False, single_cls=False, optimizer=SGD, sync_bn=False, workers=8, project=runs/train, name=Tomato_GAN_Maturity_yolov5s_results, exist_ok=False, quad=False, cos_lr=False, label_smoothing=0.0, patience=100, freeze=[0], save_period=-1, seed=0, local_rank=-1, entity=None, upload_dataset=False, bbox_interval=-1, artifact_alias=latest\n",
      "\u001b[34m\u001b[1mgithub: \u001b[0m⚠️ YOLOv5 is out of date by 3 commits. Use 'git pull' or 'git clone https://github.com/ultralytics/yolov5' to update.\n",
      "YOLOv5 🚀 v7.0-247-g3f02fde Python-3.8.18 torch-2.1.1 CPU\n",
      "\n",
      "\u001b[34m\u001b[1mhyperparameters: \u001b[0mlr0=0.01, lrf=0.01, momentum=0.937, weight_decay=0.0005, warmup_epochs=3.0, warmup_momentum=0.8, warmup_bias_lr=0.1, box=0.05, cls=0.5, cls_pw=1.0, obj=1.0, obj_pw=1.0, iou_t=0.2, anchor_t=4.0, fl_gamma=0.0, hsv_h=0.015, hsv_s=0.7, hsv_v=0.4, degrees=0.0, translate=0.1, scale=0.5, shear=0.0, perspective=0.0, flipud=0.0, fliplr=0.5, mosaic=1.0, mixup=0.0, copy_paste=0.0\n",
      "\u001b[34m\u001b[1mComet: \u001b[0mrun 'pip install comet_ml' to automatically track and visualize YOLOv5 🚀 runs in Comet\n",
      "\u001b[34m\u001b[1mTensorBoard: \u001b[0mStart with 'tensorboard --logdir runs/train', view at http://localhost:6006/\n",
      "Overriding model.yaml nc=80 with nc=3\n",
      "\n",
      "                 from  n    params  module                                  arguments                     \n",
      "  0                -1  1      3520  models.common.Conv                      [3, 32, 6, 2, 2]              \n",
      "  1                -1  1     18560  models.common.Conv                      [32, 64, 3, 2]                \n",
      "  2                -1  1     18816  models.common.C3                        [64, 64, 1]                   \n",
      "  3                -1  1     73984  models.common.Conv                      [64, 128, 3, 2]               \n",
      "  4                -1  2    115712  models.common.C3                        [128, 128, 2]                 \n",
      "  5                -1  1    295424  models.common.Conv                      [128, 256, 3, 2]              \n",
      "  6                -1  3    625152  models.common.C3                        [256, 256, 3]                 \n",
      "  7                -1  1   1180672  models.common.Conv                      [256, 512, 3, 2]              \n",
      "  8                -1  1   1182720  models.common.C3                        [512, 512, 1]                 \n",
      "  9                -1  1    656896  models.common.SPPF                      [512, 512, 5]                 \n",
      " 10                -1  1    131584  models.common.Conv                      [512, 256, 1, 1]              \n",
      " 11                -1  1         0  torch.nn.modules.upsampling.Upsample    [None, 2, 'nearest']          \n",
      " 12           [-1, 6]  1         0  models.common.Concat                    [1]                           \n",
      " 13                -1  1    361984  models.common.C3                        [512, 256, 1, False]          \n",
      " 14                -1  1     33024  models.common.Conv                      [256, 128, 1, 1]              \n",
      " 15                -1  1         0  torch.nn.modules.upsampling.Upsample    [None, 2, 'nearest']          \n",
      " 16           [-1, 4]  1         0  models.common.Concat                    [1]                           \n",
      " 17                -1  1     90880  models.common.C3                        [256, 128, 1, False]          \n",
      " 18                -1  1    147712  models.common.Conv                      [128, 128, 3, 2]              \n",
      " 19          [-1, 14]  1         0  models.common.Concat                    [1]                           \n",
      " 20                -1  1    296448  models.common.C3                        [256, 256, 1, False]          \n",
      " 21                -1  1    590336  models.common.Conv                      [256, 256, 3, 2]              \n",
      " 22          [-1, 10]  1         0  models.common.Concat                    [1]                           \n",
      " 23                -1  1   1182720  models.common.C3                        [512, 512, 1, False]          \n",
      " 24      [17, 20, 23]  1     21576  models.yolo.Detect                      [3, [[10, 13, 16, 30, 33, 23], [30, 61, 62, 45, 59, 119], [116, 90, 156, 198, 373, 326]], [128, 256, 512]]\n",
      "YOLOv5s summary: 214 layers, 7027720 parameters, 7027720 gradients, 16.0 GFLOPs\n",
      "\n",
      "Transferred 342/349 items from yolov5s.pt\n",
      "\u001b[34m\u001b[1moptimizer:\u001b[0m SGD(lr=0.01) with parameter groups 57 weight(decay=0.0), 60 weight(decay=0.0005), 60 bias\n",
      "\u001b[34m\u001b[1mtrain: \u001b[0mScanning /home/piai/yolov5/GAN_Maturity/train/labels.cache... 6409 images\u001b[0m\n",
      "\u001b[34m\u001b[1mtrain: \u001b[0mWARNING ⚠️ /home/piai/yolov5/GAN_Maturity/train/images/half-ripe-179-_jpg.rf.0d460c44e72f9e448cd4fa84fcf1baca.jpg: 1 duplicate labels removed\n",
      "\u001b[34m\u001b[1mtrain: \u001b[0mWARNING ⚠️ /home/piai/yolov5/GAN_Maturity/train/images/half-ripe-179-_jpg.rf.2316c801013ad59f691a2a5134876ccd.jpg: 1 duplicate labels removed\n",
      "\u001b[34m\u001b[1mtrain: \u001b[0mWARNING ⚠️ /home/piai/yolov5/GAN_Maturity/train/images/half-ripe-179-_jpg.rf.c6c97633423d7ee39fcf386e78efcaac.jpg: 1 duplicate labels removed\n",
      "\u001b[34m\u001b[1mtrain: \u001b[0mWARNING ⚠️ /home/piai/yolov5/GAN_Maturity/train/images/half-ripe-730-_jpg.rf.53db489b20eb49c2d7197e0fd67edf59.jpg: 1 duplicate labels removed\n",
      "\u001b[34m\u001b[1mtrain: \u001b[0mWARNING ⚠️ /home/piai/yolov5/GAN_Maturity/train/images/half-ripe-730-_jpg.rf.f3885d10b6c1e13e4db1cd43d2a2c69a.jpg: 1 duplicate labels removed\n",
      "\u001b[34m\u001b[1mtrain: \u001b[0mWARNING ⚠️ /home/piai/yolov5/GAN_Maturity/train/images/half-ripe-851-_jpg.rf.211c1306ac3e3e0ddc6bd80fb6973d8e.jpg: 1 duplicate labels removed\n",
      "\u001b[34m\u001b[1mtrain: \u001b[0mWARNING ⚠️ /home/piai/yolov5/GAN_Maturity/train/images/half-ripe-851-_jpg.rf.7e4f663d4cc2437621973a172cc53c6e.jpg: 1 duplicate labels removed\n",
      "\u001b[34m\u001b[1mtrain: \u001b[0mWARNING ⚠️ /home/piai/yolov5/GAN_Maturity/train/images/unripe-13-_jpg.rf.4fe98c662141c0e49d42deb2b6e2db89.jpg: 1 duplicate labels removed\n",
      "\u001b[34m\u001b[1mtrain: \u001b[0mWARNING ⚠️ /home/piai/yolov5/GAN_Maturity/train/images/unripe-13-_jpg.rf.ab24ec19507801ca6c7784d383f36d4a.jpg: 1 duplicate labels removed\n",
      "\u001b[34m\u001b[1mval: \u001b[0mScanning /home/piai/yolov5/GAN_Maturity/valid/labels.cache... 976 images, 3\u001b[0m\n",
      "\u001b[34m\u001b[1mval: \u001b[0mWARNING ⚠️ /home/piai/yolov5/GAN_Maturity/valid/images/image_at_epoch_26300_4_cropped_png.rf.1d11c16b573a51d12f84443d9942735b.jpg: 1 duplicate labels removed\n",
      "\u001b[34m\u001b[1mval: \u001b[0mWARNING ⚠️ /home/piai/yolov5/GAN_Maturity/valid/images/image_at_epoch_28900_8_cropped_png.rf.b25c0760f6265e45b4ea42d547d2b3c5.jpg: 1 duplicate labels removed\n",
      "\n",
      "\u001b[34m\u001b[1mAutoAnchor: \u001b[0m2.85 anchors/target, 0.999 Best Possible Recall (BPR). Current anchors are a good fit to dataset ✅\n",
      "Plotting labels to runs/train/Tomato_GAN_Maturity_yolov5s_results12/labels.jpg... \n",
      "Image sizes 640 train, 640 val\n",
      "Using 8 dataloader workers\n",
      "Logging results to \u001b[1mruns/train/Tomato_GAN_Maturity_yolov5s_results12\u001b[0m\n",
      "Starting training for 500 epochs...\n",
      "\n",
      "      Epoch    GPU_mem   box_loss   obj_loss   cls_loss  Instances       Size\n",
      "      0/499         0G    0.09142     0.0286    0.03769         15        640:  "
     ]
    }
   ],
   "source": [
    "%cd /home/piai/yolov5/\n",
    "\n",
    "!python train.py --img 640 --batch 8 --epochs 500 --data /home/piai/yolov5/GAN_Maturity/data.yaml --cfg ./models/yolov5s.yaml --weights yolov5s.pt --name Tomato_GAN_Maturity_yolov5s_results"
   ]
  },
  {
   "cell_type": "code",
   "execution_count": null,
   "id": "b4e100a6-a251-4542-901c-73bd791d158a",
   "metadata": {},
   "outputs": [],
   "source": []
  }
 ],
 "metadata": {
  "kernelspec": {
   "display_name": "Python 3 (ipykernel)",
   "language": "python",
   "name": "python3"
  },
  "language_info": {
   "codemirror_mode": {
    "name": "ipython",
    "version": 3
   },
   "file_extension": ".py",
   "mimetype": "text/x-python",
   "name": "python",
   "nbconvert_exporter": "python",
   "pygments_lexer": "ipython3",
   "version": "3.8.18"
  }
 },
 "nbformat": 4,
 "nbformat_minor": 5
}
