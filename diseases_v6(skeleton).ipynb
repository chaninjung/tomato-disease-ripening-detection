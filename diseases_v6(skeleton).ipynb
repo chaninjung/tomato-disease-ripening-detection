{
 "cells": [
  {
   "cell_type": "markdown",
   "id": "9dfbe715-6d89-4465-b039-4431b72dfdde",
   "metadata": {},
   "source": [
    "# Setup"
   ]
  },
  {
   "cell_type": "code",
   "execution_count": null,
   "id": "614d46cc-665e-42bf-b5ec-765bb72b44c8",
   "metadata": {},
   "outputs": [],
   "source": [
    "!git clone https://github.com/meituan/YOLOv6"
   ]
  },
  {
   "cell_type": "code",
   "execution_count": null,
   "id": "f08efa74-609f-4032-a064-ca63e9c0b164",
   "metadata": {},
   "outputs": [],
   "source": [
    "%cd YOLOv6\n",
    "!pip install -r requirements.txt"
   ]
  },
  {
   "cell_type": "code",
   "execution_count": null,
   "id": "d9c02454-b01a-4c3b-b87e-46a75819d518",
   "metadata": {},
   "outputs": [],
   "source": [
    "from YOLOv6.yolov6.core.engine import Trainer\n",
    "from PIL import Image"
   ]
  },
  {
   "cell_type": "markdown",
   "id": "662faa61-7338-45dd-bef2-c91f54628fe0",
   "metadata": {},
   "source": [
    "# Training"
   ]
  },
  {
   "cell_type": "code",
   "execution_count": null,
   "id": "8853f66a-b1c3-4633-a149-f0eb0bc9aa78",
   "metadata": {},
   "outputs": [],
   "source": [
    "!python /home/piai/yolov6/YOLOv6/tools/train.py --img-size 640 --batch-size 16 --epochs 30 --data /home/piai/yolov6/YOLOv6/data/leaf.yaml --conf configs/yolov6s.py --name Tomato_Leaf_Diseases_yolov6s_results"
   ]
  },
  {
   "cell_type": "markdown",
   "id": "f075a5fe-cb81-4c56-9181-486cf0aa5b51",
   "metadata": {},
   "source": [
    "# Evaluation"
   ]
  },
  {
   "cell_type": "code",
   "execution_count": null,
   "id": "9045f0f2-66b3-47b0-b74d-e3bc09475506",
   "metadata": {},
   "outputs": [],
   "source": [
    "!python tools/eval.py --data /home/piai/yolov6/YOLOv6/data/leaf.yaml --weights /home/piai/yolov6/YOLOv6/runs/train/Tomato_Leaf_Diseases_yolov6s_results/weights/best_ckpt.pt --img-size 640 --device 0"
   ]
  },
  {
   "cell_type": "code",
   "execution_count": null,
   "id": "c0b10f3b-2fbc-4ea5-8074-bffe4abdd675",
   "metadata": {},
   "outputs": [],
   "source": [
    "leaf = '/home/piai/바탕화면/토마토.jpeg'\n",
    "val_img_path = leaf\n",
    "\n",
    "# 'detect.py' 파일이 있는 디렉토리로 이동\n",
    "# os.chdir('/home/piai/yolov6/')  # 'detect.py' 파일이 있는 디렉토리로 경로 수정\n",
    "%cd /home/piai/yolov6/YOLOv6\n",
    "!python tools/infer.py --weights /home/piai/yolov6/YOLOv6/runs/train/Tomato_Maturity_yolov6s_results3/weights/best_ckpt.pt --source \"{val_img_path}\""
   ]
  }
 ],
 "metadata": {
  "kernelspec": {
   "display_name": "v6_tomato",
   "language": "python",
   "name": "v6_tomato"
  },
  "language_info": {
   "codemirror_mode": {
    "name": "ipython",
    "version": 3
   },
   "file_extension": ".py",
   "mimetype": "text/x-python",
   "name": "python",
   "nbconvert_exporter": "python",
   "pygments_lexer": "ipython3",
   "version": "3.8.18"
  }
 },
 "nbformat": 4,
 "nbformat_minor": 5
}
