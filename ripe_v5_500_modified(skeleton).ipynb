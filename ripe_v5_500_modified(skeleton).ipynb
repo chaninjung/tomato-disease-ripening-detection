{
 "cells": [
  {
   "cell_type": "code",
   "execution_count": null,
   "id": "fd9795a1-eef9-43f4-aa1a-067be682308a",
   "metadata": {},
   "outputs": [],
   "source": [
    "!git clone https://github.com/ultralytics/yolov5.git"
   ]
  },
  {
   "cell_type": "code",
   "execution_count": null,
   "id": "dfe0c6a8-f879-457b-962c-6bf90d1ccb54",
   "metadata": {},
   "outputs": [],
   "source": [
    "%cd yolov5\n",
    "!pip install -r requirements.txt"
   ]
  },
  {
   "cell_type": "code",
   "execution_count": null,
   "id": "6b60a0c3-e414-40af-a8b7-c736a02e25ef",
   "metadata": {},
   "outputs": [],
   "source": [
    "%cat /home/piai/yolov5/Tomato-Maturity/data.yaml"
   ]
  },
  {
   "cell_type": "code",
   "execution_count": null,
   "id": "1d8065f1-f916-4e0e-b790-382a312bbc30",
   "metadata": {},
   "outputs": [],
   "source": [
    "!pip install scikit-learn"
   ]
  },
  {
   "cell_type": "code",
   "execution_count": null,
   "id": "feaf7ee9-ffca-49f8-b9e4-283751bc63ba",
   "metadata": {},
   "outputs": [],
   "source": [
    "%cd /home/piai/yolov5/\n",
    "\n",
    "!python train.py --img 640 --batch 16 --epochs 500 --data /home/piai/yolov5/Tomato-Maturity/data.yaml --cfg ./models/yolov5s.yaml --weights yolov5s.pt --name Tomato_Maturity_yolov5s_results7"
   ]
  },
  {
   "cell_type": "code",
   "execution_count": null,
   "id": "e56dd53e-1bd6-465e-bc57-c148db77b3b6",
   "metadata": {},
   "outputs": [],
   "source": [
    "maturity = '/home/piai/바탕화면/maturity.jpg'\n",
    "val_img_path = maturity\n",
    "\n",
    "# 'detect.py' 파일이 있는 디렉토리로 이동\n",
    "# os.chdir('/home/piai/yolov6/')  # 'detect.py' 파일이 있는 디렉토리로 경로 수정\n",
    "%cd /home/piai/yolov5\n",
    "!python detect.py --weights /home/piai/yolov5/runs/train/Tomato_Maturity_yolov5s_results74/weights/best.pt --source \"{val_img_path}\""
   ]
  },
  {
   "cell_type": "code",
   "execution_count": null,
   "id": "990e7232-ede3-4c8f-ba0b-cf76178c473c",
   "metadata": {},
   "outputs": [],
   "source": [
    "maturity = '/home/piai/바탕화면/maturity2.jpg'\n",
    "val_img_path = maturity\n",
    "\n",
    "# 'detect.py' 파일이 있는 디렉토리로 이동\n",
    "# os.chdir('/home/piai/yolov6/')  # 'detect.py' 파일이 있는 디렉토리로 경로 수정\n",
    "%cd /home/piai/yolov5\n",
    "!python detect.py --weights /home/piai/yolov5/runs/train/Tomato_Maturity_yolov5s_results74/weights/best.pt --source \"{val_img_path}\""
   ]
  }
 ],
 "metadata": {
  "kernelspec": {
   "display_name": "cv_tomato",
   "language": "python",
   "name": "cv_tomato"
  },
  "language_info": {
   "codemirror_mode": {
    "name": "ipython",
    "version": 3
   },
   "file_extension": ".py",
   "mimetype": "text/x-python",
   "name": "python",
   "nbconvert_exporter": "python",
   "pygments_lexer": "ipython3",
   "version": "3.8.18"
  }
 },
 "nbformat": 4,
 "nbformat_minor": 5
}
