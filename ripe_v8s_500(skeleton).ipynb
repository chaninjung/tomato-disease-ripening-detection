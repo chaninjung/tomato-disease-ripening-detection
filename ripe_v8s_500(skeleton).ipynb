{
 "cells": [
  {
   "cell_type": "code",
   "execution_count": null,
   "id": "72b47162-2d9c-4d53-8dbc-cbdc0dcb3b83",
   "metadata": {},
   "outputs": [],
   "source": [
    "!git clone https://github.com/ultralytics/ultralytics"
   ]
  },
  {
   "cell_type": "code",
   "execution_count": null,
   "id": "40ad9605-9c10-4429-9ca7-7c6b8335c9cc",
   "metadata": {},
   "outputs": [],
   "source": [
    "%cd ultralytics\n",
    "!pip install -e requirements.txt"
   ]
  },
  {
   "cell_type": "code",
   "execution_count": null,
   "id": "9df12ac1-7a4f-4204-b1e7-5472c21c2007",
   "metadata": {},
   "outputs": [],
   "source": [
    "!pip install scikit-learn"
   ]
  },
  {
   "cell_type": "code",
   "execution_count": null,
   "id": "bbf17931-6ae9-4bba-a55c-f314197e13c8",
   "metadata": {},
   "outputs": [],
   "source": [
    "%cat /home/piai/yolov8/Tomato-Ripe-Aug/data.yaml"
   ]
  },
  {
   "cell_type": "code",
   "execution_count": null,
   "id": "c6e51dc9-8827-44ff-97fb-f3910dea7083",
   "metadata": {},
   "outputs": [],
   "source": [
    "%cd /home/piai/yolov8/\n",
    "\n",
    "!python train.py --img 640 --batch 8 --epochs 500 --data /home/piai/yolov5/Tomato-Ripe-Aug/data.yaml --cfg ./models/yolov5s.yaml --weights yolov5s.pt --name Tomato_Ripe_Aug_yolov5s_results"
   ]
  },
  {
   "cell_type": "code",
   "execution_count": null,
   "id": "5f1b1f3a-bb96-45e7-bc12-1f651326bfe2",
   "metadata": {},
   "outputs": [],
   "source": [
    "maturity = '/home/piai/바탕화면/maturity.jpg'\n",
    "val_img_path = maturity\n",
    "\n",
    "# 'detect.py' 파일이 있는 디렉토리로 이동\n",
    "# os.chdir('/home/piai/yolov6/')  # 'detect.py' 파일이 있는 디렉토리로 경로 수정\n",
    "%cd /home/piai/yolov5\n",
    "!python detect.py --weights /home/piai/yolov5/runs/train/Tomato_Ripe_Aug_yolov5s_results3/weights/best.pt --source \"{val_img_path}\""
   ]
  }
 ],
 "metadata": {
  "kernelspec": {
   "display_name": "v6_tomato",
   "language": "python",
   "name": "v6_tomato"
  },
  "language_info": {
   "codemirror_mode": {
    "name": "ipython",
    "version": 3
   },
   "file_extension": ".py",
   "mimetype": "text/x-python",
   "name": "python",
   "nbconvert_exporter": "python",
   "pygments_lexer": "ipython3",
   "version": "3.8.18"
  }
 },
 "nbformat": 4,
 "nbformat_minor": 5
}
