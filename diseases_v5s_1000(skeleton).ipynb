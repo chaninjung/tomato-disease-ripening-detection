{
 "cells": [
  {
   "cell_type": "code",
   "execution_count": null,
   "id": "606acd3a-96cb-4b34-b12b-16024e3d0a8c",
   "metadata": {},
   "outputs": [],
   "source": [
    "!git clone https://github.com/ultralytics/yolov5.git\n",
    "!pip install scikit-learn\n",
    "\n",
    "%cd yolov5\n",
    "!pip install -r requirements.txt"
   ]
  },
  {
   "cell_type": "code",
   "execution_count": null,
   "id": "7f39f42e-ece4-4311-b0af-00d0737fa56e",
   "metadata": {},
   "outputs": [],
   "source": [
    "%cat /home/piai/yolov5/Tomato-Leaf-Diseases/data.yaml"
   ]
  },
  {
   "cell_type": "code",
   "execution_count": null,
   "id": "64e90caa-bba2-4e1c-8451-c720026c7b60",
   "metadata": {},
   "outputs": [],
   "source": [
    "%cd /home/piai/yolov5/\n",
    "\n",
    "!python train.py --img 640 --batch 8 --epochs 100 --data /home/piai/yolov5/Tomato-Leaf-Diseases/data.yaml --cfg ./models/yolov5s.yaml --weights yolov5s.pt --name Tomato_Leaf_Diseases_yolov5s_results"
   ]
  },
  {
   "cell_type": "code",
   "execution_count": null,
   "id": "99c1640b-987e-4a5d-b226-bac3d4f46ff8",
   "metadata": {},
   "outputs": [],
   "source": [
    "diseases = '/home/piai/바탕화면/diseases.jpg'\n",
    "val_img_path = diseases\n",
    "\n",
    "# 'detect.py' 파일이 있는 디렉토리로 이동\n",
    "# os.chdir('/home/piai/yolov6/')  # 'detect.py' 파일이 있는 디렉토리로 경로 수정\n",
    "%cd /home/piai/yolov5\n",
    "!python detect.py --weights /home/piai/yolov5/runs/train/Tomato_Leaf_Diseases_yolov5s_results/weights/best.pt --source \"{val_img_path}\""
   ]
  },
  {
   "cell_type": "code",
   "execution_count": null,
   "id": "718ed150-2b52-473a-8a3b-2c075f55b5a3",
   "metadata": {},
   "outputs": [],
   "source": []
  }
 ],
 "metadata": {
  "kernelspec": {
   "display_name": "cv_tomato",
   "language": "python",
   "name": "cv_tomato"
  },
  "language_info": {
   "codemirror_mode": {
    "name": "ipython",
    "version": 3
   },
   "file_extension": ".py",
   "mimetype": "text/x-python",
   "name": "python",
   "nbconvert_exporter": "python",
   "pygments_lexer": "ipython3",
   "version": "3.8.18"
  }
 },
 "nbformat": 4,
 "nbformat_minor": 5
}
